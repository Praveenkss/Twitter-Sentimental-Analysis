{
 "cells": [
  {
   "cell_type": "code",
   "execution_count": 1,
   "metadata": {},
   "outputs": [],
   "source": [
    "import nltk"
   ]
  },
  {
   "cell_type": "code",
   "execution_count": 2,
   "metadata": {},
   "outputs": [
    {
     "name": "stdout",
     "output_type": "stream",
     "text": [
      "showing info https://raw.githubusercontent.com/nltk/nltk_data/gh-pages/index.xml\n"
     ]
    },
    {
     "data": {
      "text/plain": [
       "True"
      ]
     },
     "execution_count": 2,
     "metadata": {},
     "output_type": "execute_result"
    }
   ],
   "source": [
    "nltk.download()"
   ]
  },
  {
   "cell_type": "code",
   "execution_count": 3,
   "metadata": {},
   "outputs": [],
   "source": [
    "import pandas as pd\n",
    "import numpy as np\n",
    "import matplotlib.pyplot as plt\n",
    "import seaborn as snb"
   ]
  },
  {
   "cell_type": "code",
   "execution_count": 4,
   "metadata": {},
   "outputs": [],
   "source": [
    "df = pd.read_csv('C:/Users/agni.qa.AGNI.000/Desktop/Praveen/DS/Praveen - Projects/Train.csv')"
   ]
  },
  {
   "cell_type": "code",
   "execution_count": 5,
   "metadata": {},
   "outputs": [
    {
     "data": {
      "text/html": [
       "<div>\n",
       "<style scoped>\n",
       "    .dataframe tbody tr th:only-of-type {\n",
       "        vertical-align: middle;\n",
       "    }\n",
       "\n",
       "    .dataframe tbody tr th {\n",
       "        vertical-align: top;\n",
       "    }\n",
       "\n",
       "    .dataframe thead th {\n",
       "        text-align: right;\n",
       "    }\n",
       "</style>\n",
       "<table border=\"1\" class=\"dataframe\">\n",
       "  <thead>\n",
       "    <tr style=\"text-align: right;\">\n",
       "      <th></th>\n",
       "      <th>text</th>\n",
       "      <th>label</th>\n",
       "    </tr>\n",
       "  </thead>\n",
       "  <tbody>\n",
       "    <tr>\n",
       "      <th>0</th>\n",
       "      <td>I grew up (b. 1965) watching and loving the Th...</td>\n",
       "      <td>0</td>\n",
       "    </tr>\n",
       "    <tr>\n",
       "      <th>1</th>\n",
       "      <td>When I put this movie in my DVD player, and sa...</td>\n",
       "      <td>0</td>\n",
       "    </tr>\n",
       "    <tr>\n",
       "      <th>2</th>\n",
       "      <td>Why do people who do not know what a particula...</td>\n",
       "      <td>0</td>\n",
       "    </tr>\n",
       "    <tr>\n",
       "      <th>3</th>\n",
       "      <td>Even though I have great interest in Biblical ...</td>\n",
       "      <td>0</td>\n",
       "    </tr>\n",
       "    <tr>\n",
       "      <th>4</th>\n",
       "      <td>Im a die hard Dads Army fan and nothing will e...</td>\n",
       "      <td>1</td>\n",
       "    </tr>\n",
       "  </tbody>\n",
       "</table>\n",
       "</div>"
      ],
      "text/plain": [
       "                                                text  label\n",
       "0  I grew up (b. 1965) watching and loving the Th...      0\n",
       "1  When I put this movie in my DVD player, and sa...      0\n",
       "2  Why do people who do not know what a particula...      0\n",
       "3  Even though I have great interest in Biblical ...      0\n",
       "4  Im a die hard Dads Army fan and nothing will e...      1"
      ]
     },
     "execution_count": 5,
     "metadata": {},
     "output_type": "execute_result"
    }
   ],
   "source": [
    "df.head()"
   ]
  },
  {
   "cell_type": "code",
   "execution_count": 6,
   "metadata": {},
   "outputs": [
    {
     "name": "stdout",
     "output_type": "stream",
     "text": [
      "<class 'pandas.core.frame.DataFrame'>\n",
      "RangeIndex: 40000 entries, 0 to 39999\n",
      "Data columns (total 2 columns):\n",
      " #   Column  Non-Null Count  Dtype \n",
      "---  ------  --------------  ----- \n",
      " 0   text    40000 non-null  object\n",
      " 1   label   40000 non-null  int64 \n",
      "dtypes: int64(1), object(1)\n",
      "memory usage: 468.8+ KB\n"
     ]
    }
   ],
   "source": [
    "df.info()"
   ]
  },
  {
   "cell_type": "code",
   "execution_count": 7,
   "metadata": {},
   "outputs": [
    {
     "data": {
      "text/html": [
       "<div>\n",
       "<style scoped>\n",
       "    .dataframe tbody tr th:only-of-type {\n",
       "        vertical-align: middle;\n",
       "    }\n",
       "\n",
       "    .dataframe tbody tr th {\n",
       "        vertical-align: top;\n",
       "    }\n",
       "\n",
       "    .dataframe thead th {\n",
       "        text-align: right;\n",
       "    }\n",
       "</style>\n",
       "<table border=\"1\" class=\"dataframe\">\n",
       "  <thead>\n",
       "    <tr style=\"text-align: right;\">\n",
       "      <th></th>\n",
       "      <th>label</th>\n",
       "    </tr>\n",
       "  </thead>\n",
       "  <tbody>\n",
       "    <tr>\n",
       "      <th>count</th>\n",
       "      <td>40000.000000</td>\n",
       "    </tr>\n",
       "    <tr>\n",
       "      <th>mean</th>\n",
       "      <td>0.499525</td>\n",
       "    </tr>\n",
       "    <tr>\n",
       "      <th>std</th>\n",
       "      <td>0.500006</td>\n",
       "    </tr>\n",
       "    <tr>\n",
       "      <th>min</th>\n",
       "      <td>0.000000</td>\n",
       "    </tr>\n",
       "    <tr>\n",
       "      <th>25%</th>\n",
       "      <td>0.000000</td>\n",
       "    </tr>\n",
       "    <tr>\n",
       "      <th>50%</th>\n",
       "      <td>0.000000</td>\n",
       "    </tr>\n",
       "    <tr>\n",
       "      <th>75%</th>\n",
       "      <td>1.000000</td>\n",
       "    </tr>\n",
       "    <tr>\n",
       "      <th>max</th>\n",
       "      <td>1.000000</td>\n",
       "    </tr>\n",
       "  </tbody>\n",
       "</table>\n",
       "</div>"
      ],
      "text/plain": [
       "              label\n",
       "count  40000.000000\n",
       "mean       0.499525\n",
       "std        0.500006\n",
       "min        0.000000\n",
       "25%        0.000000\n",
       "50%        0.000000\n",
       "75%        1.000000\n",
       "max        1.000000"
      ]
     },
     "execution_count": 7,
     "metadata": {},
     "output_type": "execute_result"
    }
   ],
   "source": [
    "df.describe()"
   ]
  },
  {
   "cell_type": "code",
   "execution_count": 8,
   "metadata": {},
   "outputs": [],
   "source": [
    "import re\n",
    "from nltk.corpus import stopwords\n",
    "from nltk.stem import WordNetLemmatizer\n",
    "from nltk.stem import PorterStemmer"
   ]
  },
  {
   "cell_type": "code",
   "execution_count": 9,
   "metadata": {},
   "outputs": [],
   "source": [
    "lemma = WordNetLemmatizer()\n",
    "stemer = PorterStemmer()\n"
   ]
  },
  {
   "cell_type": "code",
   "execution_count": 10,
   "metadata": {},
   "outputs": [],
   "source": [
    "import re"
   ]
  },
  {
   "cell_type": "code",
   "execution_count": 11,
   "metadata": {},
   "outputs": [],
   "source": [
    "corpus = []\n",
    "\n",
    "for i in range(0,len(df)):\n",
    "    words = re.sub('[^a-zA-Z]',' ',df['text'][i])\n",
    "    words = words.lower()\n",
    "    words = words.split()\n",
    "    words = [lemma.lemmatize(word) for word in words if word not in set(stopwords.words('english'))]\n",
    "    words = ' '.join(words)\n",
    "    corpus.append(words)"
   ]
  },
  {
   "cell_type": "code",
   "execution_count": 12,
   "metadata": {},
   "outputs": [],
   "source": [
    "from sklearn.model_selection import train_test_split"
   ]
  },
  {
   "cell_type": "code",
   "execution_count": 13,
   "metadata": {},
   "outputs": [],
   "source": [
    "from sklearn.feature_extraction.text import TfidfVectorizer"
   ]
  },
  {
   "cell_type": "code",
   "execution_count": 14,
   "metadata": {},
   "outputs": [],
   "source": [
    "y = df[\"label\"]"
   ]
  },
  {
   "cell_type": "code",
   "execution_count": 15,
   "metadata": {},
   "outputs": [],
   "source": [
    "cv = TfidfVectorizer()"
   ]
  },
  {
   "cell_type": "code",
   "execution_count": 16,
   "metadata": {},
   "outputs": [],
   "source": [
    "x = cv.fit_transform(corpus)"
   ]
  },
  {
   "cell_type": "code",
   "execution_count": 17,
   "metadata": {},
   "outputs": [],
   "source": [
    "x_train,x_test,y_train,y_test = train_test_split(x,y,test_size=0.30,random_state=42)"
   ]
  },
  {
   "cell_type": "code",
   "execution_count": 18,
   "metadata": {},
   "outputs": [],
   "source": [
    "from sklearn.metrics import confusion_matrix\n",
    "from sklearn.svm import SVC\n",
    "from sklearn.neighbors import KNeighborsClassifier\n",
    "from sklearn.naive_bayes import MultinomialNB\n",
    "from sklearn.tree import DecisionTreeClassifier\n",
    "from sklearn.ensemble import RandomForestClassifier\n",
    "from sklearn.ensemble import AdaBoostClassifier\n",
    "from sklearn.ensemble import GradientBoostingClassifier\n",
    "from sklearn.neighbors import KNeighborsClassifier\n",
    "import pickle\n",
    "import sklearn\n",
    "import scipy"
   ]
  },
  {
   "cell_type": "code",
   "execution_count": 19,
   "metadata": {},
   "outputs": [],
   "source": [
    "def naive_classifier(x_train, x_test, y_train, y_test):\n",
    "    \n",
    "    classifier_naive = MultinomialNB()\n",
    "    classifier_naive.fit(x_train, y_train)\n",
    "\n",
    "    y_pred = classifier_naive.predict(x_test)\n",
    "\n",
    "    \n",
    "    cm = confusion_matrix(y_test, y_pred)\n",
    "\n",
    "    return print(f\"Train score : {classifier_naive.score(x_train, y_train)}\\nTest score : {classifier_naive.score(x_test, y_test)}\")"
   ]
  },
  {
   "cell_type": "code",
   "execution_count": 20,
   "metadata": {},
   "outputs": [],
   "source": [
    "def random_classifier(x_train, x_test, y_train, y_test):\n",
    "    \n",
    "    classifier_rf = RandomForestClassifier()\n",
    "    classifier_rf.fit(x_train, y_train)\n",
    "\n",
    "    y_pred = classifier_rf.predict(x_test)\n",
    "\n",
    "    cm = confusion_matrix(y_test, y_pred)\n",
    "\n",
    "    return print(f\"Train score : {classifier_rf.score(x_train, y_train)}\\nTest score : {classifier_rf.score(x_test, y_test)}\")"
   ]
  },
  {
   "cell_type": "code",
   "execution_count": 21,
   "metadata": {},
   "outputs": [],
   "source": [
    "def ada_classifier(x_train, x_test, y_train, y_test):\n",
    "    \n",
    "    classifier_ab = AdaBoostClassifier()\n",
    "    classifier_ab.fit(x_train, y_train)\n",
    "\n",
    "    y_pred = classifier_ab.predict(x_test)\n",
    "\n",
    "    cm = confusion_matrix(y_test, y_pred)\n",
    "\n",
    "    return print(f\"Train score : {classifier_ab.score(x_train, y_train)}\\nTest score : {classifier_ab.score(x_test, y_test)}\")"
   ]
  },
  {
   "cell_type": "code",
   "execution_count": 22,
   "metadata": {},
   "outputs": [],
   "source": [
    "def knn_classifier(x_train, x_test, y_train, y_test):\n",
    "    \n",
    "    classifier_knn = KNeighborsClassifier()\n",
    "    classifier_knn.fit(x_train, y_train)\n",
    "\n",
    "    y_pred = classifier_knn.predict(x_test)\n",
    "\n",
    "    cm = confusion_matrix(y_test, y_pred)\n",
    "\n",
    "    return print(f\"Train score : {classifier_knn.score(x_train, y_train)}\\nTest score : {classifier_knn.score(x_test, y_test)}\")"
   ]
  },
  {
   "cell_type": "code",
   "execution_count": 23,
   "metadata": {},
   "outputs": [],
   "source": [
    "def svm_classifier(x_train, x_test, y_train, y_test):\n",
    "    \n",
    "    classifier_svm = SVC()\n",
    "    classifier_svm.fit(x_train, y_train)\n",
    "\n",
    "    y_pred = classifier_svm.predict(x_test)\n",
    "\n",
    "    cm = confusion_matrix(y_test, y_pred)\n",
    "\n",
    "    return print(f\"Train score : {classifier_svm.score(x_train, y_train)}\\nTest score : {classifier_svm.score(x_test, y_test)}\")"
   ]
  },
  {
   "cell_type": "code",
   "execution_count": 24,
   "metadata": {},
   "outputs": [],
   "source": [
    "import warnings\n",
    "warnings.filterwarnings('ignore')"
   ]
  },
  {
   "cell_type": "code",
   "execution_count": 25,
   "metadata": {},
   "outputs": [],
   "source": [
    "def print_score(X_train, X_test, y_train, y_test):\n",
    "    print(\"Naivi Baise:\\n\")\n",
    "    naive_classifier(X_train, X_test, y_train, y_test)\n",
    "\n",
    "    print(\"-\"*100)\n",
    "    print()\n",
    "\n",
    "    print(\"Random Forest:\\n\")\n",
    "    random_classifier(X_train, X_test, y_train, y_test)\n",
    "\n",
    "    print(\"-\"*100)\n",
    "    print()\n",
    "    \n",
    "    print(\"AdaBoost:\\n\")\n",
    "    ada_classifier(X_train, X_test, y_train, y_test)\n",
    "\n",
    "    print(\"-\"*100)\n",
    "    print()\n",
    "    \n",
    "    print(\"SVM:\\n\")\n",
    "    svm_classifier(X_train, X_test, y_train, y_test)\n",
    "\n",
    "    print(\"-\"*100)\n",
    "    print()"
   ]
  },
  {
   "cell_type": "code",
   "execution_count": 26,
   "metadata": {},
   "outputs": [
    {
     "name": "stdout",
     "output_type": "stream",
     "text": [
      "Naivi Baise:\n",
      "\n",
      "Train score : 0.913\n",
      "Test score : 0.8641666666666666\n",
      "----------------------------------------------------------------------------------------------------\n",
      "\n",
      "Random Forest:\n",
      "\n",
      "Train score : 1.0\n",
      "Test score : 0.84825\n",
      "----------------------------------------------------------------------------------------------------\n",
      "\n",
      "AdaBoost:\n",
      "\n",
      "Train score : 0.8072857142857143\n",
      "Test score : 0.79875\n",
      "----------------------------------------------------------------------------------------------------\n",
      "\n",
      "SVM:\n",
      "\n",
      "Train score : 0.9919285714285714\n",
      "Test score : 0.89525\n",
      "----------------------------------------------------------------------------------------------------\n",
      "\n"
     ]
    }
   ],
   "source": [
    "print_score(x_train, x_test, y_train, y_test)"
   ]
  },
  {
   "cell_type": "code",
   "execution_count": 27,
   "metadata": {},
   "outputs": [],
   "source": [
    "model = SVC()\n",
    "model.fit(x_train, y_train)\n",
    "y_pred = model.predict(x_test)"
   ]
  },
  {
   "cell_type": "code",
   "execution_count": 28,
   "metadata": {},
   "outputs": [],
   "source": [
    "#from sklearn.model_selection import GridSearchCV"
   ]
  },
  {
   "cell_type": "code",
   "execution_count": 29,
   "metadata": {},
   "outputs": [],
   "source": [
    "#para = {'C':[0.2,0.5,0.75,0.9,1.0],\n",
    "         #'kernel':['linear', 'poly', 'rbf', 'sigmoid', 'precomputed'],\n",
    "         #'gamma':[2**-5,2**-2,2**-1,2**-6]}"
   ]
  },
  {
   "cell_type": "code",
   "execution_count": 30,
   "metadata": {},
   "outputs": [],
   "source": [
    "#grid_search = GridSearchCV(estimator = model,\n",
    "                            # param_grid = para,\n",
    "                            #scoring = 'accuracy',\n",
    "                            #cv = 10,\n",
    "                            #n_jobs = -1)\n",
    "#grid_search = grid_search.fit(x_train, y_train)"
   ]
  },
  {
   "cell_type": "code",
   "execution_count": 31,
   "metadata": {},
   "outputs": [],
   "source": [
    "x = \"\"\"It's been about 14 years since Sharon Stone awarded viewers a leg-crossing that twisted many people's minds. And now, God knows why, she's in the game again. \"Basic Instinct 2\" is the sequel to the smash-hit erotica \"Basic Instinct\" featuring a sexy Stone and a vulnerable Michael Douglas. However, fans of the original might not even get close to this one, since \"Instinct 2\" is painful film-making, as the mediocre director Michael Caton-Jones assassinates the legacy of the first film.<br /><br />The plot of the movie starts when a car explosion breaks in right at the beginning. Catherine Tramell (Sharon Stone, trying to look forcefully sexy) is a suspect and appears to be involved in the murder. A psychiatrist (a horrible David Morrisey) is appointed to examine her, but eventually falls for an intimate game of seduction.<br /><br />And there it is, without no further explanations, the basic force that moves this \"Instinct\". Nothing much is explained and we have to sit through a sleazy, C-class erotic film. Sharon Stone stars in her first role where she is most of the time a turn-off. Part of it because of the amateurish writing, the careless direction, and terrifyingly low chemistry. The movie is full of vulgar dialogues and even more sexuality (a menage a trois scene was cut off so that this wouldn't be rated NC-17) than the first entrance in the series. \"Instinct\" is a compelling torture.<br /><br />To top it off, everything that made the original film a guilty pleasure is not found anywhere in the film. The acting here is really bad. Sharon Stone has some highlights, but here, she gets extremely obnoxious. David Morrisey stars in the worst role of his life, and seems to never make more than two expressions in the movie- confused and aroused. \"Instinct 2\" is a horrible way to continue an otherwise original series, that managed to put in thriller with erotica extremely well. Paul Verhoeven, how I miss you....<br /><br />\"Basic Instinct 2\" never sounded like a good movie, and, indeed, it isn't. Some films should never get out of paper, and that is the feeling you get after watching this. Now, it is much easier to understand why Douglas and David Cronenberg dropped out, and why Sharon Stone was expecting a huge paycheck for this......-----3/10\"\"\"\n",
    "\n",
    "x = cv.transform([x])\n"
   ]
  },
  {
   "cell_type": "code",
   "execution_count": 32,
   "metadata": {},
   "outputs": [
    {
     "data": {
      "text/plain": [
       "array([0], dtype=int64)"
      ]
     },
     "execution_count": 32,
     "metadata": {},
     "output_type": "execute_result"
    }
   ],
   "source": [
    "model.predict(x)"
   ]
  },
  {
   "cell_type": "code",
   "execution_count": 33,
   "metadata": {},
   "outputs": [],
   "source": [
    "y = \"\"\"This is the best movie I've ever seen! <br /><br />Maybe it's because I live just a few miles from the village were the story take place, and I know how things work out in this area in Sweden. The movie tells the truth, believe me! It both criticizes and honors the lifestyle of Dalarna, and the producer wants people who watch the movie to be more opened minded and care more for your closest friends and relatives.<br /><br />But if you live in another small village anywhere in Sweden (or another country) you will probably also recognize much from this movie.<br /><br />Thank you Maria Blom!\n",
    "\"\"\"\n",
    "y = cv.transform([y])"
   ]
  },
  {
   "cell_type": "code",
   "execution_count": 34,
   "metadata": {},
   "outputs": [
    {
     "data": {
      "text/plain": [
       "array([1], dtype=int64)"
      ]
     },
     "execution_count": 34,
     "metadata": {},
     "output_type": "execute_result"
    }
   ],
   "source": [
    "model.predict(y)"
   ]
  },
  {
   "cell_type": "code",
   "execution_count": null,
   "metadata": {},
   "outputs": [],
   "source": []
  }
 ],
 "metadata": {
  "kernelspec": {
   "display_name": "Python 3",
   "language": "python",
   "name": "python3"
  },
  "language_info": {
   "codemirror_mode": {
    "name": "ipython",
    "version": 3
   },
   "file_extension": ".py",
   "mimetype": "text/x-python",
   "name": "python",
   "nbconvert_exporter": "python",
   "pygments_lexer": "ipython3",
   "version": "3.8.5"
  }
 },
 "nbformat": 4,
 "nbformat_minor": 4
}
